{
 "cells": [
  {
   "cell_type": "code",
   "execution_count": 42,
   "metadata": {},
   "outputs": [],
   "source": [
    "import pandas as pd\n",
    "import json\n",
    "import datetime\n",
    "from dateutil.parser import parse\n",
    "import re\n",
    "import time\n",
    "from matplotlib import pyplot as plt\n",
    "import wordcloud,jieba\n",
    "from PIL import Image\n",
    "import collections"
   ]
  },
  {
   "cell_type": "code",
   "execution_count": 23,
   "metadata": {},
   "outputs": [],
   "source": [
    "comp = re.compile('</?\\w+[^>]*>')\n",
    "def strip_html(s:str):\n",
    "    return comp.sub('',s)"
   ]
  },
  {
   "cell_type": "code",
   "execution_count": 3,
   "metadata": {},
   "outputs": [],
   "source": [
    "df = pd.read_csv('analysis_src_1.csv')"
   ]
  },
  {
   "cell_type": "code",
   "execution_count": 4,
   "metadata": {},
   "outputs": [
    {
     "name": "stdout",
     "output_type": "stream",
     "text": [
      "(204574, 2)\n"
     ]
    }
   ],
   "source": [
    "print(df.shape)"
   ]
  },
  {
   "cell_type": "markdown",
   "metadata": {},
   "source": [
    "## 数据预处理"
   ]
  },
  {
   "cell_type": "code",
   "execution_count": 8,
   "metadata": {},
   "outputs": [],
   "source": [
    "big_result = []\n",
    "for i in range(0,df.shape[0]):\n",
    "    big_result.append(json.loads(json.dumps(eval(df.iloc[i][1]))))"
   ]
  },
  {
   "cell_type": "code",
   "execution_count": 12,
   "metadata": {},
   "outputs": [],
   "source": [
    "for r in big_result:\n",
    "    r['user_gender'] = r['user']['gender']\n",
    "    r['user_name'] = r['user']['screen_name']\n",
    "    r['user_avt'] = r['user']['profile_image_url']\n",
    "    r['user_id'] = r['user']['profile_url'].split('=')[-1]"
   ]
  },
  {
   "cell_type": "code",
   "execution_count": 13,
   "metadata": {},
   "outputs": [],
   "source": [
    "df_out_big = pd.DataFrame(big_result,columns=[\"created_at\",\"text\",\"user_name\",\"user_gender\",\"user_avt\"])"
   ]
  },
  {
   "cell_type": "code",
   "execution_count": 14,
   "metadata": {},
   "outputs": [
    {
     "data": {
      "text/html": [
       "<div>\n",
       "<style scoped>\n",
       "    .dataframe tbody tr th:only-of-type {\n",
       "        vertical-align: middle;\n",
       "    }\n",
       "\n",
       "    .dataframe tbody tr th {\n",
       "        vertical-align: top;\n",
       "    }\n",
       "\n",
       "    .dataframe thead th {\n",
       "        text-align: right;\n",
       "    }\n",
       "</style>\n",
       "<table border=\"1\" class=\"dataframe\">\n",
       "  <thead>\n",
       "    <tr style=\"text-align: right;\">\n",
       "      <th></th>\n",
       "      <th>created_at</th>\n",
       "      <th>text</th>\n",
       "      <th>user_name</th>\n",
       "      <th>user_gender</th>\n",
       "      <th>user_avt</th>\n",
       "    </tr>\n",
       "  </thead>\n",
       "  <tbody>\n",
       "    <tr>\n",
       "      <td>0</td>\n",
       "      <td>Mon Jun 15 17:38:33 +0800 2020</td>\n",
       "      <td>李文亮医生，你好！今天来晚了，对不起！</td>\n",
       "      <td>没得昵称200110</td>\n",
       "      <td>m</td>\n",
       "      <td>https://tvax3.sinaimg.cn/crop.0.0.996.996.180/...</td>\n",
       "    </tr>\n",
       "    <tr>\n",
       "      <td>1</td>\n",
       "      <td>Mon Jun 15 17:38:07 +0800 2020</td>\n",
       "      <td>李医生，你好，三文鱼有错吗？</td>\n",
       "      <td>灰蝶出茧</td>\n",
       "      <td>f</td>\n",
       "      <td>https://tvax3.sinaimg.cn/crop.0.0.996.996.180/...</td>\n",
       "    </tr>\n",
       "    <tr>\n",
       "      <td>2</td>\n",
       "      <td>Mon Jun 15 17:32:22 +0800 2020</td>\n",
       "      <td>李医生，心情不好&lt;span class=\"url-icon\"&gt;&lt;img alt=[失望] s...</td>\n",
       "      <td>小胖是有梦想地star</td>\n",
       "      <td>f</td>\n",
       "      <td>https://tvax1.sinaimg.cn/crop.23.0.1195.1195.1...</td>\n",
       "    </tr>\n",
       "    <tr>\n",
       "      <td>3</td>\n",
       "      <td>Mon Jun 15 17:24:45 +0800 2020</td>\n",
       "      <td>回复&lt;a href='/n/社员都是向阳花2003'&gt;@社员都是向阳花2003&lt;/a&gt;：不知...</td>\n",
       "      <td>宗深</td>\n",
       "      <td>f</td>\n",
       "      <td>https://tva2.sinaimg.cn/crop.0.0.664.664.180/a...</td>\n",
       "    </tr>\n",
       "    <tr>\n",
       "      <td>4</td>\n",
       "      <td>Mon Jun 15 17:23:03 +0800 2020</td>\n",
       "      <td>[蜡烛]</td>\n",
       "      <td>no-name1999</td>\n",
       "      <td>f</td>\n",
       "      <td>https://tvax2.sinaimg.cn/crop.0.13.750.750.180...</td>\n",
       "    </tr>\n",
       "    <tr>\n",
       "      <td>...</td>\n",
       "      <td>...</td>\n",
       "      <td>...</td>\n",
       "      <td>...</td>\n",
       "      <td>...</td>\n",
       "      <td>...</td>\n",
       "    </tr>\n",
       "    <tr>\n",
       "      <td>204569</td>\n",
       "      <td>Sat Apr 04 04:57:41 +0800 2020</td>\n",
       "      <td>[蜡烛][蜡烛][蜡烛][蜡烛]</td>\n",
       "      <td>马马马马马珂珂</td>\n",
       "      <td>f</td>\n",
       "      <td>https://tvax4.sinaimg.cn/crop.0.0.512.512.180/...</td>\n",
       "    </tr>\n",
       "    <tr>\n",
       "      <td>204570</td>\n",
       "      <td>Sat Apr 04 04:57:19 +0800 2020</td>\n",
       "      <td>谢谢您 您永远活在我们心里[蜡烛][蜡烛][蜡烛]</td>\n",
       "      <td>xxmiing_</td>\n",
       "      <td>f</td>\n",
       "      <td>https://tvax3.sinaimg.cn/crop.0.0.996.996.180/...</td>\n",
       "    </tr>\n",
       "    <tr>\n",
       "      <td>204571</td>\n",
       "      <td>Sat Apr 04 04:57:13 +0800 2020</td>\n",
       "      <td>李医生，很难过以这样的方式跟您说话&lt;span class=\"url-icon\"&gt;&lt;img a...</td>\n",
       "      <td>周杰伦的小迷妹er</td>\n",
       "      <td>f</td>\n",
       "      <td>https://tvax1.sinaimg.cn/crop.0.0.512.512.180/...</td>\n",
       "    </tr>\n",
       "    <tr>\n",
       "      <td>204572</td>\n",
       "      <td>Sat Apr 04 04:57:10 +0800 2020</td>\n",
       "      <td>本来已经想好了写什么，可打开你的微博，发现自己啥都不想写了  兄弟，我想你了[蜡烛][蜡烛]...</td>\n",
       "      <td>贵族阳光灬96959</td>\n",
       "      <td>m</td>\n",
       "      <td>https://tvax2.sinaimg.cn/crop.0.0.996.996.180/...</td>\n",
       "    </tr>\n",
       "    <tr>\n",
       "      <td>204573</td>\n",
       "      <td>Sat Apr 04 04:57:04 +0800 2020</td>\n",
       "      <td>李医生，一路走好[蜡烛][蜡烛][蜡烛]</td>\n",
       "      <td>SjimerWei</td>\n",
       "      <td>m</td>\n",
       "      <td>https://tvax4.sinaimg.cn/crop.0.0.512.512.180/...</td>\n",
       "    </tr>\n",
       "  </tbody>\n",
       "</table>\n",
       "<p>204574 rows × 5 columns</p>\n",
       "</div>"
      ],
      "text/plain": [
       "                            created_at  \\\n",
       "0       Mon Jun 15 17:38:33 +0800 2020   \n",
       "1       Mon Jun 15 17:38:07 +0800 2020   \n",
       "2       Mon Jun 15 17:32:22 +0800 2020   \n",
       "3       Mon Jun 15 17:24:45 +0800 2020   \n",
       "4       Mon Jun 15 17:23:03 +0800 2020   \n",
       "...                                ...   \n",
       "204569  Sat Apr 04 04:57:41 +0800 2020   \n",
       "204570  Sat Apr 04 04:57:19 +0800 2020   \n",
       "204571  Sat Apr 04 04:57:13 +0800 2020   \n",
       "204572  Sat Apr 04 04:57:10 +0800 2020   \n",
       "204573  Sat Apr 04 04:57:04 +0800 2020   \n",
       "\n",
       "                                                     text    user_name  \\\n",
       "0                                     李文亮医生，你好！今天来晚了，对不起！   没得昵称200110   \n",
       "1                                          李医生，你好，三文鱼有错吗？         灰蝶出茧   \n",
       "2       李医生，心情不好<span class=\"url-icon\"><img alt=[失望] s...  小胖是有梦想地star   \n",
       "3       回复<a href='/n/社员都是向阳花2003'>@社员都是向阳花2003</a>：不知...           宗深   \n",
       "4                                                    [蜡烛]  no-name1999   \n",
       "...                                                   ...          ...   \n",
       "204569                                   [蜡烛][蜡烛][蜡烛][蜡烛]      马马马马马珂珂   \n",
       "204570                          谢谢您 您永远活在我们心里[蜡烛][蜡烛][蜡烛]     xxmiing_   \n",
       "204571  李医生，很难过以这样的方式跟您说话<span class=\"url-icon\"><img a...    周杰伦的小迷妹er   \n",
       "204572  本来已经想好了写什么，可打开你的微博，发现自己啥都不想写了  兄弟，我想你了[蜡烛][蜡烛]...   贵族阳光灬96959   \n",
       "204573                               李医生，一路走好[蜡烛][蜡烛][蜡烛]    SjimerWei   \n",
       "\n",
       "       user_gender                                           user_avt  \n",
       "0                m  https://tvax3.sinaimg.cn/crop.0.0.996.996.180/...  \n",
       "1                f  https://tvax3.sinaimg.cn/crop.0.0.996.996.180/...  \n",
       "2                f  https://tvax1.sinaimg.cn/crop.23.0.1195.1195.1...  \n",
       "3                f  https://tva2.sinaimg.cn/crop.0.0.664.664.180/a...  \n",
       "4                f  https://tvax2.sinaimg.cn/crop.0.13.750.750.180...  \n",
       "...            ...                                                ...  \n",
       "204569           f  https://tvax4.sinaimg.cn/crop.0.0.512.512.180/...  \n",
       "204570           f  https://tvax3.sinaimg.cn/crop.0.0.996.996.180/...  \n",
       "204571           f  https://tvax1.sinaimg.cn/crop.0.0.512.512.180/...  \n",
       "204572           m  https://tvax2.sinaimg.cn/crop.0.0.996.996.180/...  \n",
       "204573           m  https://tvax4.sinaimg.cn/crop.0.0.512.512.180/...  \n",
       "\n",
       "[204574 rows x 5 columns]"
      ]
     },
     "execution_count": 14,
     "metadata": {},
     "output_type": "execute_result"
    }
   ],
   "source": [
    "df_out_big"
   ]
  },
  {
   "cell_type": "code",
   "execution_count": 15,
   "metadata": {},
   "outputs": [],
   "source": [
    "df_out_big.to_csv('./load_result_200k.csv',index=False,encoding=\"utf_8_sig\")"
   ]
  },
  {
   "cell_type": "markdown",
   "metadata": {},
   "source": [
    "## 数据分析\n",
    "--- "
   ]
  },
  {
   "cell_type": "markdown",
   "metadata": {},
   "source": [
    "### 男女比"
   ]
  },
  {
   "cell_type": "code",
   "execution_count": 18,
   "metadata": {},
   "outputs": [],
   "source": [
    "m=0\n",
    "f=0\n",
    "for i in range(0,df_out_big.shape[0]):\n",
    "    c = df_out_big.iloc[i][3]\n",
    "    if c=='f':\n",
    "        f = f+1\n",
    "    elif c=='m':\n",
    "        m = m+1"
   ]
  },
  {
   "cell_type": "code",
   "execution_count": 73,
   "metadata": {},
   "outputs": [
    {
     "data": {
      "image/png": "[encoded data removed]",
      "text/plain": [
       "<Figure size 432x288 with 1 Axes>"
      ]
     },
     "metadata": {},
     "output_type": "display_data"
    }
   ],
   "source": [
    "plt.rcParams['font.sans-serif']=['Microsoft YaHei'] #用来正常显示中文标签\n",
    "labels = ['男','女']\n",
    "sizes = (m,f)\n",
    "explode = (0,0)\n",
    "plt.pie(sizes,explode=explode,labels=labels,autopct='%1.1f%%',shadow=False,startangle=150)\n",
    "plt.title('200k male-to-female ratio (Apr04 to Jun 15)')\n",
    "plt.show()"
   ]
  },
  {
   "cell_type": "markdown",
   "metadata": {},
   "source": [
    "----\n",
    "### 词频与词云"
   ]
  },
  {
   "cell_type": "code",
   "execution_count": 26,
   "metadata": {},
   "outputs": [
    {
     "name": "stderr",
     "output_type": "stream",
     "text": [
      "Building prefix dict from the default dictionary ...\n",
      "Loading model from cache C:\\Users\\NathanY\\AppData\\Local\\Temp\\jieba.cache\n",
      "Loading model cost 0.599 seconds.\n",
      "Prefix dict has been built successfully.\n"
     ]
    },
    {
     "name": "stdout",
     "output_type": "stream",
     "text": [
      "['李医生', '，', '心情', '不好']\n"
     ]
    }
   ],
   "source": [
    "text_col = df_out_big['text']\n",
    "text_col.shape\n",
    "cut_text_col = []\n",
    "for text in text_col:\n",
    "    cut_text_col.append(jieba.lcut(strip_html(text)))\n",
    "print(cut_text_col[2])"
   ]
  },
  {
   "cell_type": "code",
   "execution_count": 50,
   "metadata": {},
   "outputs": [
    {
     "data": {
      "text/plain": [
       "3882673"
      ]
     },
     "execution_count": 50,
     "metadata": {},
     "output_type": "execute_result"
    }
   ],
   "source": [
    "cut_col_list = [i for j in cut_text_col for i in j]\n",
    "punctuation_marks = ['，',',','!','！','。','.','、','~','[',']','【','】',' ']\n",
    "stop_words = open('stopwords.words','r',encoding='utf-8').read().split('\\n')\n",
    "cut_col_list_stripped = list(filter(lambda x:x not in punctuation_marks,cut_col_list))\n",
    "cut_col_list_stripped_stopped = list(filter(lambda x:x not in stop_words,cut_col_list_stripped))\n",
    "all_txt = \" \".join(cut_col_list_stripped_stopped)\n",
    "\n",
    "len(all_txt)"
   ]
  },
  {
   "cell_type": "markdown",
   "metadata": {},
   "source": [
    "### 词频"
   ]
  },
  {
   "cell_type": "code",
   "execution_count": 110,
   "metadata": {},
   "outputs": [
    {
     "name": "stdout",
     "output_type": "stream",
     "text": [
      "[('蜡烛', 92409), ('李医生', 59784), ('好', 30747), ('都', 18045), ('晚安', 16311), ('恭喜', 15246), ('不', 12745), ('人', 11951), ('？', 11725), ('白', 11321), ('希望', 10832), ('很', 10588), ('…', 10013), ('🙏', 9757), ('想', 9132), ('会', 8580), ('说', 7423), ('走', 7130), ('🕯', 7054), ('一个', 6980)]\n",
      "1351961\n"
     ]
    }
   ],
   "source": [
    "words_count = collections.Counter(cut_col_list_stripped_stopped)\n",
    "words_count_top = words_count.most_common(20)\n",
    "print(words_count_top)\n",
    "print(len(cut_col_list_stripped_stopped))"
   ]
  },
  {
   "cell_type": "code",
   "execution_count": 85,
   "metadata": {},
   "outputs": [
    {
     "data": {
      "image/png": "[encoded data removed]",
      "text/plain": [
       "<Figure size 1600x640 with 1 Axes>"
      ]
     },
     "metadata": {
      "needs_background": "light"
     },
     "output_type": "display_data"
    }
   ],
   "source": [
    "plt.figure(figsize=(20,8),dpi=80)\n",
    "words = []\n",
    "count = []\n",
    "for (w,c) in words_count_top:\n",
    "    words.append(w)\n",
    "    count.append(c)\n",
    "x = range(len(words))\n",
    "plt.bar(x,count,width=0.5)\n",
    "plt.rcParams['font.sans-serif']=['Microsoft YaHei']\n",
    "plt.xticks(x,words)\n",
    "plt.tick_params(labelsize=20)\n",
    "plt.savefig('./words-freq-'+str(datetime.datetime.now().strftime('%Y-%m-%d-%H-%M-%S'))+'.png',dpi=80,bbox_inches='tight')\n",
    "plt.show()"
   ]
  },
  {
   "cell_type": "markdown",
   "metadata": {},
   "source": [
    "### 词云"
   ]
  },
  {
   "cell_type": "code",
   "execution_count": 58,
   "metadata": {},
   "outputs": [
    {
     "data": {
      "text/plain": [
       "<wordcloud.wordcloud.WordCloud at 0x1e8d4d1d6a0>"
      ]
     },
     "execution_count": 58,
     "metadata": {},
     "output_type": "execute_result"
    }
   ],
   "source": [
    "\n",
    "w = wordcloud.WordCloud(\\\n",
    "    width = 1000, height = 700,\\\n",
    "    background_color = \"white\",     font_path = \"msyh.ttc\",scale=16,collocations=False\n",
    ")\n",
    "\n",
    "\n",
    "w.generate_from_text(all_txt)"
   ]
  },
  {
   "cell_type": "code",
   "execution_count": 59,
   "metadata": {},
   "outputs": [
    {
     "data": {
      "image/png": "[encoded data removed]",
      "text/plain": [
       "<Figure size 432x288 with 1 Axes>"
      ]
     },
     "metadata": {
      "needs_background": "light"
     },
     "output_type": "display_data"
    },
    {
     "data": {
      "text/plain": [
       "<Figure size 432x288 with 0 Axes>"
      ]
     },
     "metadata": {},
     "output_type": "display_data"
    }
   ],
   "source": [
    "plt.imshow(w)\n",
    "plt.axis(\"off\")\n",
    "plt.figure()\n",
    "plt.show()"
   ]
  },
  {
   "cell_type": "code",
   "execution_count": 60,
   "metadata": {},
   "outputs": [
    {
     "data": {
      "text/plain": [
       "<wordcloud.wordcloud.WordCloud at 0x1e8d4d1d6a0>"
      ]
     },
     "execution_count": 60,
     "metadata": {},
     "output_type": "execute_result"
    }
   ],
   "source": [
    "w.to_file('./cloud-'+str(datetime.datetime.now().strftime('%Y-%m-%d-%H-%M-%S'))+'.png')"
   ]
  },
  {
   "cell_type": "markdown",
   "metadata": {},
   "source": [
    "----\n",
    "### 时间序列分析"
   ]
  },
  {
   "cell_type": "code",
   "execution_count": 94,
   "metadata": {},
   "outputs": [
    {
     "name": "stdout",
     "output_type": "stream",
     "text": [
      "(204574, 5)\n",
      "(204574, 5)\n"
     ]
    }
   ],
   "source": [
    "print(df_out_big.shape)\n",
    "df_out_big_norepeat = df_out_big.drop_duplicates(keep='first')\n",
    "print(df_out_big_norepeat.shape)\n",
    "dates = {}\n",
    "for i in range(0,df_out_big.shape[0]):\n",
    "    d = parse(df_out_big.iloc[i][0]).date().strftime('%m-%d')\n",
    "    if dates.get(d)==None:\n",
    "        dates[d]=1\n",
    "    else:\n",
    "        dates[d]+=1"
   ]
  },
  {
   "cell_type": "code",
   "execution_count": 111,
   "metadata": {},
   "outputs": [
    {
     "data": {
      "image/png": "[encoded data removed]",
      "text/plain": [
       "<Figure size 432x288 with 1 Axes>"
      ]
     },
     "metadata": {
      "needs_background": "light"
     },
     "output_type": "display_data"
    }
   ],
   "source": [
    "x_data = []\n",
    "y_data = []\n",
    "for k in dates:\n",
    "    x_data.append(k)\n",
    "    y_data.append(dates[k])\n",
    "\n",
    "plt.plot(x_data,y_data)\n",
    "plt.title('评论量')\n",
    "plt.xticks(rotation=60)\n",
    "plt.tick_params(labelsize=5)\n",
    "plt.show()"
   ]
  },
  {
   "cell_type": "markdown",
   "metadata": {},
   "source": [
    "# THE TECHNOLOGY IS THERE"
   ]
  },
  {
   "cell_type": "code",
   "execution_count": 112,
   "metadata": {},
   "outputs": [],
   "source": [
    "from snownlp import SnowNLP"
   ]
  },
  {
   "cell_type": "code",
   "execution_count": 114,
   "metadata": {},
   "outputs": [
    {
     "name": "stdout",
     "output_type": "stream",
     "text": [
      "['李', '文亮', '医生', '，', '你好', '！', '今天', '来', '晚', '了', '，', '对不起', '！'] 0.14954548456250127\n"
     ]
    }
   ],
   "source": [
    "t = df_out_big.iloc[0][1]\n",
    "result = SnowNLP(t)\n",
    "print(result.words,result.sentiments)"
   ]
  },
  {
   "cell_type": "code",
   "execution_count": 115,
   "metadata": {},
   "outputs": [
    {
     "name": "stdout",
     "output_type": "stream",
     "text": [
      "李文亮医生，你好！今天来晚了，对不起！ 0.14954548456250127\n",
      "李医生，你好，三文鱼有错吗？ 0.2466775143881692\n",
      "李医生，心情不好<span class=\"url-icon\"><img alt=[失望] src=\"//h5.sinaimg.cn/m/emoticon/icon/default/d_shiwang-7925938d93.png\" style=\"width:1em; height:1em;\" /></span> 0.0660590495163329\n",
      "回复<a href='/n/社员都是向阳花2003'>@社员都是向阳花2003</a>：不知道您经历了什么，试着找亲近的人给与支持、理解和帮助。如果还不够，可以寻求心理帮助，帮助自己走过艰难时刻。 0.9850353371463167\n",
      "[蜡烛] 0.2500000000000001\n",
      "李医生，三亚今天终于下雨了！ 0.2758072431241191\n",
      "李医生，我瘦了，从72公斤，瘦到了63公斤，你在天堂还好吗？ 0.9944334484499836\n",
      "李医生，疫情好像又开始了，希望一起都快点过去，不要让你们的牺牲白费<span class=\"url-icon\"><img alt=[太阳] src=\"//h5.sinaimg.cn/m/emoticon/icon/others/w_taiyang-90b439dadf.png\" style=\"width:1em; height:1em;\" /></span> 0.1968319803819356\n",
      "生活太南了 0.8819939787265193\n",
      "回复<a href='/n/c1021'>@c1021</a> 的表态:<span class=\"url-icon\"><img alt=[作揖] src=\"//h5.sinaimg.cn/m/emoticon/icon/others/h_zuoyi-cb12e18fd5.png\" style=\"width:1em; height:1em;\" /></span> 0.035385421433562936\n",
      "唉 北京什么情况 0.40383034781642346\n",
      "李医生 好累啊 有些事情就是不能如人所愿的吧。武汉虽然恢复了，疫情带来的影响真大，经济是真的很紧张，唉。 0.4366188732538382\n",
      "你不曾真的离去 你始终在我心里 0.9825409744162787\n",
      "我要是早点认识你就好了 0.5670370188890766\n",
      "想吃晚餐，我还没下班<span class=\"url-icon\"><img alt=[允悲] src=\"//h5.sinaimg.cn/m/emoticon/icon/default/d_yunbei-9aa3c436a4.png\" style=\"width:1em; height:1em;\" /></span> 0.9649202190439201\n",
      "李医生，李医生，恭喜母子平安。 您看到了吗，前两天的您晋升了啦！ 新生，代表生命的延续，永远记得您。 相信您的孩子也像您一样，点亮身边的人。 0.999980461899191\n",
      "每当这个时候，下班的时候，唉……交给时间吧，交给时间吧，交给时间吧…… 0.6665269771002448\n",
      "今天一定早点睡，好困 0.28181386749969806\n",
      "李医生，今年感觉活着好难啊<span class=\"url-icon\"><img alt=[泪] src=\"//h5.sinaimg.cn/m/emoticon/icon/default/d_lei-1b4b02f8b1.png\" style=\"width:1em; height:1em;\" /></span> 0.9227079561723324\n",
      "北京。。。 0.4950422490268718\n"
     ]
    }
   ],
   "source": [
    "for i in range(0,20):\n",
    "    print(df_out_big.iloc[i][1],SnowNLP(df_out_big.iloc[i][1]).sentiments)"
   ]
  },
  {
   "cell_type": "code",
   "execution_count": null,
   "metadata": {},
   "outputs": [],
   "source": []
  }
 ],
 "metadata": {
  "kernelspec": {
   "display_name": "Python 3",
   "language": "python",
   "name": "python3"
  },
  "language_info": {
   "codemirror_mode": {
    "name": "ipython",
    "version": 3
   },
   "file_extension": ".py",
   "mimetype": "text/x-python",
   "name": "python",
   "nbconvert_exporter": "python",
   "pygments_lexer": "ipython3",
   "version": "3.7.0"
  }
 },
 "nbformat": 4,
 "nbformat_minor": 2
}
