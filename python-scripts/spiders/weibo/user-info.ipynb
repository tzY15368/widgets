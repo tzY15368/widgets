{
 "cells": [
  {
   "cell_type": "code",
   "execution_count": 14,
   "metadata": {},
   "outputs": [],
   "source": [
    "import pandas as pd\n",
    "import json\n",
    "import datetime\n",
    "from dateutil.parser import parse\n",
    "import re\n",
    "import time\n",
    "from matplotlib import pyplot as plt\n",
    "import wordcloud,jieba\n",
    "from PIL import Image\n",
    "import collections\n",
    "import numpy as np\n",
    "from datetime import timezone,timedelta\n",
    "id_df = pd.read_csv('ids.csv')"
   ]
  },
  {
   "cell_type": "code",
   "execution_count": 24,
   "metadata": {},
   "outputs": [],
   "source": [
    "def write_to_csv(worker_id:int,result:str):\n",
    "        with open('ids-result.csv','a',encoding='utf-8-sig',newline='') as fi:\n",
    "            csv_writer = csv.writer(fi)\n",
    "            csv_writer.writerow([worker_id,result])\n",
    "            fi.close()\n",
    "cookie = r'''_T_WM=08f78267b3c8b3e81c5694bd749d0c72; SUB=_2A25z4pcxDeRhGeBL6VQV9S7LwjyIHXVRLDl5rDV6PUJbkdAKLUPgkW1NRzu3llWd9x3VWbQ9as4YwzSkEF4dFzBy; SUHB=0HThyw0vmdoET-; SCF=AuFHAYWcr5N7MVvhRYFgAAXIgqOt23a7o9xLpBJbIJUwPTSkSo47ZzEQf4qcLBCp-RP2ZssFXSBu-P-VVVbS5So.; SSOLoginState=1592190817'''\n",
    "headers = {\n",
    "    'user-agent': 'Mozilla/5.0 (Windows NT 10.0; WOW64) AppleWebKit/537.36 (KHTML, like Gecko) Chrome/69.0.3497.100 Safari/537.36',\n",
    "    'Cookie':cookie\n",
    "}"
   ]
  },
  {
   "cell_type": "code",
   "execution_count": 25,
   "metadata": {},
   "outputs": [
    {
     "data": {
      "text/plain": [
       "6197731518"
      ]
     },
     "execution_count": 25,
     "metadata": {},
     "output_type": "execute_result"
    }
   ],
   "source": [
    "id_df.shape\n",
    "id_df.iloc[4][0]"
   ]
  },
  {
   "cell_type": "code",
   "execution_count": 26,
   "metadata": {},
   "outputs": [],
   "source": [
    "import requests,csv"
   ]
  },
  {
   "cell_type": "code",
   "execution_count": 29,
   "metadata": {},
   "outputs": [
    {
     "name": "stdout",
     "output_type": "stream",
     "text": [
      "198/105501 requesting user 1907080862403\n",
      "{\"ok\":0,\"errno\":\"100005\",\"msg\":\"\\u8bf7\\u6c42\\u8fc7\\u4e8e\\u9891\\u7e41,\\u6b47\\u6b47\\u5427\"}\n",
      "---->198/105501last id: 1907080862, termination time: 2020-06-20 18:44:01\n"
     ]
    }
   ],
   "source": [
    "proxies = {\n",
    "    \"http\":\"http://211.137.52.159\"\n",
    "}\n",
    "i=197\n",
    "while i<id_df.shape[0]:\n",
    "    time.sleep(1)\n",
    "    print('{}/{} requesting user {}'.format(i+1,id_df.shape[0],id_df.iloc[i][0]),end='')\n",
    "    url = 'https://m.weibo.cn/api/container/getIndex?containerid=230283'+str(id_df.iloc[i][0])+'_-_INFO'\n",
    "    r = requests.get(url,headers=headers,proxies=proxies)\n",
    "    if str(r.status_code)=='200':\n",
    "        print('--->user {} done'.format(i+1))\n",
    "        write_to_csv(id_df.iloc[i][0],r.text)\n",
    "        i = i+1\n",
    "    else:\n",
    "        print(r.status_code)\n",
    "        print(r.text)\n",
    "        print('---->{}/{}last id: {}, termination time: {}'.format(i+1,id_df.shape[0],id_df.iloc[i][0],str(time.strftime(\"%Y-%m-%d %H:%M:%S\"))))\n",
    "        break"
   ]
  },
  {
   "cell_type": "code",
   "execution_count": 20,
   "metadata": {},
   "outputs": [],
   "source": [
    "txt = \"\"\"{\"ok\":1,\"data\":{\"cards\":[{\"card_type\":11,\"card_group\":[{\"card_type\":42,\"display_arrow\":0,\"desc\":\"\\u8d26\\u53f7\\u4fe1\\u606f\"},{\"card_type\":41,\"item_name\":\"\\u6635\\u79f0\",\"item_content\":\"\\u6ca1\\u5f97\\u6635\\u79f0200110\"},{\"card_type\":41,\"item_name\":\"\\u7b80\\u4ecb\",\"item_content\":\"\\u6682\\u65e0\\u7b80\\u4ecb\"}]},{\"card_type\":11,\"card_group\":[{\"card_type\":42,\"display_arrow\":0,\"desc\":\"\\u4e2a\\u4eba\\u4fe1\\u606f\"},{\"card_type\":41,\"item_name\":\"\\u6027\\u522b\",\"item_content\":\"\\u7537\"},{\"card_type\":41,\"item_name\":\"\\u6240\\u5728\\u5730\",\"item_content\":\"\\u56db\\u5ddd\"}]}],\"cardlistInfo\":{\"show_style\":1,\"can_shared\":0,\"cardlist_menus\":[{\"name\":\"\\u5237\\u65b0\",\"type\":\"button_menus_refresh\"},{\"name\":\"\\u8fd4\\u56de\\u9996\\u9875\",\"params\":{\"scheme\":\"sinaweibo:\\/\\/gotohome\"},\"type\":\"gohome\"}],\"v_p\":\"42\",\"cardlist_title\":\"\",\"desc\":\"\",\"containerid\":\"2302837417115858_-_INFO\",\"page\":null},\"banners\":null,\"scheme\":\"sinaweibo:\\/\\/cardlist?containerid=2302837417115858_-_INFO&_T_WM=66523356875&v_p=42&luicode=10000011&lfid=2302837417115858_-_INFO\"}}\n",
    "\"\"\""
   ]
  },
  {
   "cell_type": "code",
   "execution_count": 21,
   "metadata": {},
   "outputs": [
    {
     "data": {
      "text/plain": [
       "{'ok': 1,\n",
       " 'data': {'cards': [{'card_type': 11,\n",
       "    'card_group': [{'card_type': 42, 'display_arrow': 0, 'desc': '账号信息'},\n",
       "     {'card_type': 41, 'item_name': '昵称', 'item_content': '没得昵称200110'},\n",
       "     {'card_type': 41, 'item_name': '简介', 'item_content': '暂无简介'}]},\n",
       "   {'card_type': 11,\n",
       "    'card_group': [{'card_type': 42, 'display_arrow': 0, 'desc': '个人信息'},\n",
       "     {'card_type': 41, 'item_name': '性别', 'item_content': '男'},\n",
       "     {'card_type': 41, 'item_name': '所在地', 'item_content': '四川'}]}],\n",
       "  'cardlistInfo': {'show_style': 1,\n",
       "   'can_shared': 0,\n",
       "   'cardlist_menus': [{'name': '刷新', 'type': 'button_menus_refresh'},\n",
       "    {'name': '返回首页',\n",
       "     'params': {'scheme': 'sinaweibo://gotohome'},\n",
       "     'type': 'gohome'}],\n",
       "   'v_p': '42',\n",
       "   'cardlist_title': '',\n",
       "   'desc': '',\n",
       "   'containerid': '2302837417115858_-_INFO',\n",
       "   'page': None},\n",
       "  'banners': None,\n",
       "  'scheme': 'sinaweibo://cardlist?containerid=2302837417115858_-_INFO&_T_WM=66523356875&v_p=42&luicode=10000011&lfid=2302837417115858_-_INFO'}}"
      ]
     },
     "execution_count": 21,
     "metadata": {},
     "output_type": "execute_result"
    }
   ],
   "source": [
    "import json\n",
    "json.loads(txt)"
   ]
  },
  {
   "cell_type": "code",
   "execution_count": null,
   "metadata": {},
   "outputs": [],
   "source": []
  }
 ],
 "metadata": {
  "kernelspec": {
   "display_name": "Python 3",
   "language": "python",
   "name": "python3"
  },
  "language_info": {
   "codemirror_mode": {
    "name": "ipython",
    "version": 3
   },
   "file_extension": ".py",
   "mimetype": "text/x-python",
   "name": "python",
   "nbconvert_exporter": "python",
   "pygments_lexer": "ipython3",
   "version": "3.7.0"
  }
 },
 "nbformat": 4,
 "nbformat_minor": 2
}
